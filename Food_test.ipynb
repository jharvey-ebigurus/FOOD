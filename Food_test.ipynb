{
  "cells": [
    {
      "cell_type": "markdown",
      "metadata": {
        "id": "vyuFocCYRRiC"
      },
      "source": []
    },
    {
      "cell_type": "code",
      "source": [
        "import pandas as pd\n",
        "import numpy as np\n",
        "import json\n",
        "import requests\n",
        "from google.colab import userdata"
      ],
      "metadata": {
        "collapsed": true,
        "id": "nOw1KqizRhOG"
      },
      "execution_count": null,
      "outputs": []
    },
    {
      "cell_type": "code",
      "execution_count": null,
      "metadata": {
        "id": "h4T6XfBERRiD"
      },
      "outputs": [],
      "source": [
        "import requests\n",
        "from google.colab import userdata\n",
        "\n",
        "QUERY_BLOCK = 'cottage cheese 2%\\nchicken thigh, boneless, skinless'\n",
        "API_KEY = userdata.get('USDA_KEY')\n",
        "\n",
        "print(API_KEY)\n"
      ]
    },
    {
      "cell_type": "code",
      "source": [
        "def USDA_APIRequest(api_key, search_query=None, fdc_id=None ):\n",
        "  search_url = \"https://api.nal.usda.gov/fdc/v1/foods/search\"\n",
        "  details_url = f\"https://api.nal.usda.gov/fdc/v1/food/{fdc_id}\"\n",
        "  if api_key == None:\n",
        "    print('no api key')\n",
        "    data = {}\n",
        "  else:\n",
        "    if fdc_id == None:\n",
        "      params = {\n",
        "          'query': search_query,  # Search term\n",
        "          'api_key': api_key\n",
        "      }\n",
        "\n",
        "      # Perform the search\n",
        "      response = requests.get(search_url, params=params)\n",
        "    else:\n",
        "      response = requests.get(details_url, params={'api_key': api_key})\n",
        "\n",
        "    data = response.json()\n",
        "\n",
        "  return data"
      ],
      "metadata": {
        "id": "7qhOl2kIHfYK"
      },
      "execution_count": null,
      "outputs": []
    },
    {
      "cell_type": "code",
      "source": [
        "def BlockQueryUSDA(query_block, api_key):\n",
        "  query_list = query_block.split('\\n')\n",
        "  data_coll={}\n",
        "  for query in query_list:\n",
        "    data = USDA_APIRequest(search_query=query, api_key=api_key)\n",
        "    # Perform the search\n",
        "    data_coll[query] = data\n",
        "  return data_coll"
      ],
      "metadata": {
        "id": "nPuVz7RILNhJ"
      },
      "execution_count": null,
      "outputs": []
    },
    {
      "cell_type": "code",
      "source": [
        "USDA_data=BlockQueryUSDA(query_block=QUERY_BLOCK, api_key=API_KEY)\n"
      ],
      "metadata": {
        "id": "Uwtw6DkzPYhB"
      },
      "execution_count": null,
      "outputs": []
    },
    {
      "cell_type": "code",
      "source": [
        "for item in USDA_data:\n",
        "\n",
        "  print(item, \":\", USDA_data[item],\"\\n\")"
      ],
      "metadata": {
        "id": "D-w6ZXwSTasb"
      },
      "execution_count": null,
      "outputs": []
    },
    {
      "cell_type": "code",
      "source": [
        "with open('USDA_data.json', 'w') as f:\n",
        "    json.dump(USDA_data, f, indent=2)\n",
        "USDA_data"
      ],
      "metadata": {
        "id": "snh1hgo4ZWYA"
      },
      "execution_count": null,
      "outputs": []
    },
    {
      "cell_type": "markdown",
      "source": [
        "----------------------------- old stuff ---------------------"
      ],
      "metadata": {
        "id": "--zHa2xPeF9v"
      }
    },
    {
      "cell_type": "code",
      "source": [
        "# Extract the first food item\n",
        "food_item = USDA_data['foods'][0]\n",
        "\n",
        "# Extract the description\n",
        "description = food_item['description']\n",
        "\n",
        "# Extract the list of nutrients\n",
        "food_nutrients = food_item['foodNutrients']\n",
        "# Create a dictionary with nutrient names as keys and their values\n",
        "nutrient_data = {nutrient['nutrientName']: nutrient['value'] for nutrient in food_nutrients}\n",
        "\n",
        "\n",
        "df = pd.DataFrame(nutrient_data, index=[description])\n",
        "df\n",
        "# List of target nutrients\n",
        "target_nutrients = ['Protein', 'Carbohydrate, by difference', 'Total lipid (fat)', 'Fiber, total dietary']\n",
        "# Add missing nutrients with NaN values\n",
        "for nutrient in target_nutrients:\n",
        "    if nutrient not in df.columns:\n",
        "        df[nutrient] = 0\n",
        "columns = ['Ingredient']+['Calories']+target_nutrients\n",
        "combined_df = pd.DataFrame(columns=columns)\n",
        "\n"
      ],
      "metadata": {
        "id": "aE0bwUPfH2VX"
      },
      "execution_count": null,
      "outputs": []
    },
    {
      "cell_type": "code",
      "source": [
        "# Define the target nutrients and columns for the final DataFrame\n",
        "target_nutrients = ['Protein', 'Carbohydrate, by difference', 'Total lipid (fat)', 'Fiber, total dietary']\n",
        "columns = ['Ingredient', 'Calories'] + target_nutrients\n",
        "\n",
        "# Initialize empty DataFrame\n",
        "combined_df = pd.DataFrame(columns=columns).set_index('Ingredient')\n",
        "\n",
        "# Loop through USDA data\n",
        "for item in USDA_data:\n",
        "    food_item = USDA_data[item]['foods'][0]\n",
        "\n",
        "    # Extract description and nutrients\n",
        "    description = food_item['description']\n",
        "    food_nutrients = food_item['foodNutrients']\n",
        "\n",
        "    # Build nutrient dict\n",
        "    nutrient_data = {n['nutrientName']: n['value'] for n in food_nutrients}\n",
        "\n",
        "    # Ensure all target nutrients are present\n",
        "    for nutrient in target_nutrients:\n",
        "        if nutrient not in nutrient_data:\n",
        "            nutrient_data[nutrient] = 0\n",
        "\n",
        "    # Compute calories\n",
        "    calories = (\n",
        "        nutrient_data['Protein'] * 4 +\n",
        "        nutrient_data['Carbohydrate, by difference'] * 4 +\n",
        "        nutrient_data['Total lipid (fat)'] * 9 +\n",
        "        nutrient_data['Fiber, total dietary'] * 2\n",
        "    )\n",
        "\n",
        "    # Construct row data\n",
        "    row_data = {\n",
        "        'Calories': calories,\n",
        "        'Protein': nutrient_data['Protein'],\n",
        "        'Carbohydrate, by difference': nutrient_data['Carbohydrate, by difference'],\n",
        "        'Total lipid (fat)': nutrient_data['Total lipid (fat)'],\n",
        "        'Fiber, total dietary': nutrient_data['Fiber, total dietary']\n",
        "    }\n",
        "\n",
        "    # Append row to DataFrame\n",
        "    combined_df.loc[description] = row_data\n",
        "\n",
        "# Show result\n",
        "df = combined_df\n",
        "df"
      ],
      "metadata": {
        "id": "Je3gzuO4Y_r2"
      },
      "execution_count": null,
      "outputs": []
    },
    {
      "cell_type": "code",
      "source": [
        "\n",
        "\n",
        "# Rename columns\n",
        "df.rename(columns={\n",
        "    'Carbohydrate, by difference': 'Carbs',\n",
        "    'Total lipid (fat)': 'Fat',\n",
        "    'Fiber, total dietary': 'Fiber'\n",
        "}, inplace=True)\n",
        "\n",
        "# Calculate percent columns\n",
        "df['% Protein'] = (df['Protein'] * 4) / df['Calories'] * 100\n",
        "df['% Carbs']   = (df['Carbs']   * 4) / df['Calories'] * 100\n",
        "df['% Fat']     = (df['Fat']     * 9) / df['Calories'] * 100\n",
        "df['% Fiber']   = (df['Fiber']   * 2) / df['Calories'] * 100\n",
        "\n",
        "# Round for readability (optional)\n",
        "df[['% Protein', '% Carbs', '% Fat', '% Fiber']] = df[['% Protein', '% Carbs', '% Fat', '% Fiber']].round(1)\n",
        "\n",
        "# Show final DataFrame\n",
        "df\n"
      ],
      "metadata": {
        "id": "PZCs1D9lPWb5"
      },
      "execution_count": null,
      "outputs": []
    },
    {
      "cell_type": "code",
      "source": [
        "print(combined_df['Protein'].sum())"
      ],
      "metadata": {
        "id": "SPCxfiiPNxwn"
      },
      "execution_count": null,
      "outputs": []
    },
    {
      "cell_type": "markdown",
      "source": [
        "------------------------------------- individual query by fdc id ------------------------"
      ],
      "metadata": {
        "id": "HSqPdYRPNoFW"
      }
    },
    {
      "cell_type": "code",
      "execution_count": null,
      "metadata": {
        "id": "uUYIgtGXRRiE"
      },
      "outputs": [],
      "source": [
        "# Step 2: Assume the user selects a row (e.g., row 1) from the list\n",
        "# Select the first food item (or any other based on user input)\n",
        "selected_food = data['foods'][0]  # In this case, selecting the first item\n",
        "fdc_id = selected_food['fdcId']  # Get the FDC ID of the selected food\n",
        "\n",
        "print(f\"\\nFetching nutrition details for: {selected_food['description']} (FDC ID: {fdc_id})\")\n",
        "\n",
        "# Step 3: Fetch detailed nutrition info using the FDC ID\n",
        "details_url = f\"https://api.nal.usda.gov/fdc/v1/food/{fdc_id}\"\n",
        "details_response = requests.get(details_url, params={'api_key': api_key})\n",
        "food_details = details_response.json()\n",
        "\n",
        "# Step 4: Display detailed nutrition info\n",
        "\n",
        "print(f\"Name: {food_details['description']}\")\n",
        "\n"
      ]
    },
    {
      "cell_type": "code",
      "execution_count": null,
      "metadata": {
        "id": "EErG9yZhRRiE"
      },
      "outputs": [],
      "source": [
        "# Step 2: Assume the user selects a row (e.g., row 1) from the list\n",
        "# Select the first food item (or any other based on user input)\n",
        "selected_food = data['foods'][0]  # In this case, selecting the first item\n",
        "fdc_id = selected_food['fdcId']  # Get the FDC ID of the selected food\n",
        "\n",
        "print(f\"\\nFetching nutrition details for: {selected_food['description']} (FDC ID: {fdc_id})\")\n",
        "\n",
        "# Step 3: Fetch detailed nutrition info using the FDC ID\n",
        "details_url = f\"https://api.nal.usda.gov/fdc/v1/food/{fdc_id}\"\n",
        "details_response = requests.get(details_url, params={'api_key': api_key})\n",
        "food_details = details_response.json()\n",
        "\n",
        "# Step 4: Display detailed nutrition info\n",
        "\n",
        "print(f\"Name: {food_details['description']}\")\n",
        "\n"
      ]
    },
    {
      "cell_type": "code",
      "execution_count": null,
      "metadata": {
        "id": "U6J8xSijRRiE"
      },
      "outputs": [],
      "source": [
        "food_nutrients"
      ]
    },
    {
      "cell_type": "code",
      "execution_count": null,
      "metadata": {
        "id": "QAgzPoAFRRiE"
      },
      "outputs": [],
      "source": [
        "food_details"
      ]
    },
    {
      "cell_type": "code",
      "execution_count": null,
      "metadata": {
        "id": "XxZ0WZX_RRiE"
      },
      "outputs": [],
      "source": [
        "unit_dict = {\n",
        "    \"g\": 1,\n",
        "    \"mg\": 0.001,\n",
        "    \"µg\": 0.000001,\n",
        "    \"kcal\": 0.00000001,\n",
        "    \"kJ\": 0.00000001,\n",
        "    \"IU\": 0.0000001\n",
        "}\n",
        "\n",
        "tot_amt=0\n",
        "for nutrient in food_details['foodNutrients']:\n",
        "    #print(nutrient)\n",
        "    #print(nutrient['nutrient']['name'])\n",
        "\n",
        "    if 'amount' in nutrient:\n",
        "        nutrient_amt=nutrient['amount']\n",
        "        nutrient_unit=nutrient['nutrient']['unitName']\n",
        "        nutrient_name=nutrient['nutrient']['name']\n",
        "        print(f\"{nutrient_name}: {nutrient_amt} {nutrient_unit}\")\n",
        "        tot_amt += float(nutrient['amount']) * unit_dict[nutrient_unit]\n",
        "        print(f\"sub-total: {tot_amt}\")\n",
        "\n",
        "print(f\"Total: {tot_amt}\")\n"
      ]
    }
  ],
  "metadata": {
    "kernelspec": {
      "display_name": "Python 3",
      "language": "python",
      "name": "python3"
    },
    "language_info": {
      "codemirror_mode": {
        "name": "ipython",
        "version": 3
      },
      "file_extension": ".py",
      "mimetype": "text/x-python",
      "name": "python",
      "nbconvert_exporter": "python",
      "pygments_lexer": "ipython3",
      "version": "3.11.8"
    },
    "colab": {
      "provenance": []
    }
  },
  "nbformat": 4,
  "nbformat_minor": 0
}